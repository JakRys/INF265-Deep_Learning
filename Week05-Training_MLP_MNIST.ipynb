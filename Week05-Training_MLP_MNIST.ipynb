{
  "nbformat": 4,
  "nbformat_minor": 0,
  "metadata": {
    "kernelspec": {
      "display_name": "Python 3",
      "language": "python",
      "name": "python3"
    },
    "language_info": {
      "codemirror_mode": {
        "name": "ipython",
        "version": 3
      },
      "file_extension": ".py",
      "mimetype": "text/x-python",
      "name": "python",
      "nbconvert_exporter": "python",
      "pygments_lexer": "ipython3",
      "version": "3.7.1"
    },
    "colab": {
      "name": "Week05_Training_MLP_MNIST.ipynb",
      "provenance": [],
      "collapsed_sections": []
    }
  },
  "cells": [
    {
      "cell_type": "markdown",
      "metadata": {
        "id": "wn2zZHclR3NF"
      },
      "source": [
        ">Jakub Ryšavý\n",
        "# INF265 - Week 5: Training an MLP on MNIST"
      ]
    },
    {
      "cell_type": "code",
      "metadata": {
        "id": "wFvNtgXkwO2P"
      },
      "source": [
        "# ## Google Colab code\n",
        "# # download input files\n",
        "\n",
        "# from google.colab import drive\n",
        "# drive.mount('/content/drive')\n",
        "\n",
        "# !cp /content/drive/MyDrive/VYSOKA/INF265-Deep_Learning/Week05_Training_MLP_MNIST/handwritten_digits_images.csv .\n",
        "# !cp /content/drive/MyDrive/VYSOKA/INF265-Deep_Learning/Week05_Training_MLP_MNIST/handwritten_digits_labels.csv .\n",
        "# # !cp -r /content/drive/MyDrive/VYSOKA/INF265-Deep_Learning/Week05_Training_MLP_MNIST/MNIST/ .\n",
        "# print('Download of input files done!')"
      ],
      "execution_count": 57,
      "outputs": []
    },
    {
      "cell_type": "code",
      "metadata": {
        "id": "LHbfsEnJR3NW"
      },
      "source": [
        "import numpy as np\n",
        "import pandas as pd\n",
        "\n",
        "from sklearn.model_selection import train_test_split\n",
        "from PIL import Image\n",
        "\n",
        "import torch\n",
        "import torch.nn as nn\n",
        "from torchvision import models\n",
        "from torchvision import transforms\n",
        "\n",
        "from pathlib import Path\n",
        "import matplotlib.pyplot as plt"
      ],
      "execution_count": 58,
      "outputs": []
    },
    {
      "cell_type": "markdown",
      "metadata": {
        "id": "OMY4B2bdR3NZ"
      },
      "source": [
        "### 2. Load data and store images"
      ]
    },
    {
      "cell_type": "code",
      "metadata": {
        "colab": {
          "base_uri": "https://localhost:8080/"
        },
        "id": "gGL1n_pFR3Na",
        "outputId": "b26b02cb-5626-4e30-eca6-7e904875f561"
      },
      "source": [
        "X = pd.read_csv(\"handwritten_digits_images.csv\")\n",
        "y = pd.read_csv(\"handwritten_digits_labels.csv\")\n",
        "print(\"shape of X:\", X.shape, \n",
        "      \"\\nshape of y:\", y.shape)"
      ],
      "execution_count": 59,
      "outputs": [
        {
          "output_type": "stream",
          "text": [
            "shape of X: (69999, 784) \n",
            "shape of y: (69999, 1)\n"
          ],
          "name": "stdout"
        }
      ]
    },
    {
      "cell_type": "code",
      "metadata": {
        "id": "JlECutyrR3Nf"
      },
      "source": [
        "X_train, X_test, y_train, y_test = train_test_split(X, y, test_size=0.2, random_state=1)\n",
        "X_train, X_val, y_train, y_val = train_test_split(X_train, y_train, test_size=0.25, random_state=1) # 0.25 x 0.8 = 0.2"
      ],
      "execution_count": 60,
      "outputs": []
    },
    {
      "cell_type": "code",
      "metadata": {
        "colab": {
          "base_uri": "https://localhost:8080/"
        },
        "id": "0D3EZQxDR3Nk",
        "outputId": "d2f9f5a5-92f3-453a-8675-3b7929af5667"
      },
      "source": [
        "def store_images(data, labels, folder):\n",
        "    path = Path('MNIST')/ folder\n",
        "    for l in np.unique(labels):\n",
        "        Path('MNIST/' + folder + '/' + str(l)).mkdir(parents=True, exist_ok=True)\n",
        "    for i, label in zip(range(len(data)), labels.values):\n",
        "        label = label[0]\n",
        "        im = data.iloc[i]\n",
        "        im = np.array(im, dtype='uint8')\n",
        "        im = im.reshape((28, 28))\n",
        "        img = Image.fromarray(im)\n",
        "        name = path/ str(label)/ str(str(i) + '.jpg')\n",
        "        img.save(name)\n",
        "    print(f\"Storing {folder} images finished! :-)\")\n",
        "\n",
        "store_images(X_train, y_train, 'train')\n",
        "store_images(X_val, y_val, 'val')\n",
        "store_images(X_test, y_test, 'test')"
      ],
      "execution_count": 61,
      "outputs": [
        {
          "output_type": "stream",
          "text": [
            "Storing train images finished! :-)\n",
            "Storing val images finished! :-)\n",
            "Storing test images finished! :-)\n"
          ],
          "name": "stdout"
        }
      ]
    },
    {
      "cell_type": "markdown",
      "metadata": {
        "id": "sCL90YYyXRY2"
      },
      "source": [
        "## 3. Preprocessing\n",
        "Write a data preprocessor using the classes available in ’torchvision.transforms’\n",
        "that first converts images to grayscale, then pads two black pixels around\n",
        "images (output dimensions should become 32×32) and finally converts images to tensors. **Hint**: You can use the class ’torchvision.transforms.Compose()’\n",
        "to chain a list of transforms."
      ]
    },
    {
      "cell_type": "code",
      "metadata": {
        "id": "-vmxT2zRR3Nk"
      },
      "source": [
        "preprocessor = transforms.Compose([\n",
        "    transforms.Grayscale(num_output_channels=1),\n",
        "    transforms.Pad(2),\n",
        "    transforms.ToTensor(),\n",
        "]) "
      ],
      "execution_count": 62,
      "outputs": []
    },
    {
      "cell_type": "markdown",
      "metadata": {
        "id": "qmiWiFMAK9lO"
      },
      "source": [
        "## 4. Create datasets\n",
        "Use the ’torchvision.datasets.ImageFolder()’ class to create the MNIST train/validation/test datasets, given the paths obtained from the folders\n",
        "hierarchy in Question 2 and the data preprocessor created in Question 3."
      ]
    },
    {
      "cell_type": "code",
      "metadata": {
        "colab": {
          "base_uri": "https://localhost:8080/"
        },
        "id": "8Kt-M57kR3No",
        "outputId": "2a7d9ab7-1b0c-486b-a35a-1928422988a9"
      },
      "source": [
        "import torchvision.datasets\n",
        "train_dataset = torchvision.datasets.ImageFolder(root='MNIST/train', transform=preprocessor)\n",
        "val_dataset = torchvision.datasets.ImageFolder(root='MNIST/val', transform=preprocessor)\n",
        "test_dataset = torchvision.datasets.ImageFolder(root='MNIST/test', transform=preprocessor)\n",
        "\n",
        "train_dataset, val_dataset, test_dataset"
      ],
      "execution_count": 63,
      "outputs": [
        {
          "output_type": "execute_result",
          "data": {
            "text/plain": [
              "(Dataset ImageFolder\n",
              "     Number of datapoints: 41999\n",
              "     Root location: MNIST/train\n",
              "     StandardTransform\n",
              " Transform: Compose(\n",
              "                Grayscale(num_output_channels=1)\n",
              "                Pad(padding=2, fill=0, padding_mode=constant)\n",
              "                ToTensor()\n",
              "            ), Dataset ImageFolder\n",
              "     Number of datapoints: 14000\n",
              "     Root location: MNIST/val\n",
              "     StandardTransform\n",
              " Transform: Compose(\n",
              "                Grayscale(num_output_channels=1)\n",
              "                Pad(padding=2, fill=0, padding_mode=constant)\n",
              "                ToTensor()\n",
              "            ), Dataset ImageFolder\n",
              "     Number of datapoints: 14000\n",
              "     Root location: MNIST/test\n",
              "     StandardTransform\n",
              " Transform: Compose(\n",
              "                Grayscale(num_output_channels=1)\n",
              "                Pad(padding=2, fill=0, padding_mode=constant)\n",
              "                ToTensor()\n",
              "            ))"
            ]
          },
          "metadata": {
            "tags": []
          },
          "execution_count": 63
        }
      ]
    },
    {
      "cell_type": "markdown",
      "metadata": {
        "id": "ZS4Kw-JYMuLm"
      },
      "source": [
        "\n",
        "## 5. Create DataLoader\n",
        "Use the ’torch.utils.data.DataLoader()’ class to instantiate generators for\n",
        "the MNIST datasets generated in Question 4. Make sure that the train\n",
        "generator is set to shuffle data."
      ]
    },
    {
      "cell_type": "code",
      "metadata": {
        "colab": {
          "base_uri": "https://localhost:8080/"
        },
        "id": "OFLhHHqRR3Np",
        "outputId": "c6c2291b-6f05-4863-a4b0-520a28621016"
      },
      "source": [
        "batch_size = 128\n",
        "\n",
        "train_loader = torch.utils.data.DataLoader(dataset=train_dataset, batch_size=batch_size, shuffle=True)\n",
        "valid_loader = torch.utils.data.DataLoader(dataset=val_dataset, batch_size=batch_size, shuffle=False)\n",
        "test_loader = torch.utils.data.DataLoader(dataset=test_dataset, batch_size=batch_size, shuffle=False)\n",
        "\n",
        "train_loader, valid_loader, test_loader"
      ],
      "execution_count": 64,
      "outputs": [
        {
          "output_type": "execute_result",
          "data": {
            "text/plain": [
              "(<torch.utils.data.dataloader.DataLoader at 0x7fe4a9a03d30>,\n",
              " <torch.utils.data.dataloader.DataLoader at 0x7fe4a9a03d68>,\n",
              " <torch.utils.data.dataloader.DataLoader at 0x7fe4a9a03e10>)"
            ]
          },
          "metadata": {
            "tags": []
          },
          "execution_count": 64
        }
      ]
    },
    {
      "cell_type": "markdown",
      "metadata": {
        "id": "aFT0QXvaM6gt"
      },
      "source": [
        "## 6. Questions\n",
        "* In which context do we need data generators?\n",
        "    * Data loader is usually useful when dealing with large data.\n",
        "    * Thanks to them, whole data does not have to be loaded to the memory.\n",
        "    * In PyTorch, the input of a model have to be a *tensor* type. This is also done by data loaders.\n",
        "* How do data generators typically work?\n",
        "    1. It takes the data in amount of one batch,\n",
        "    2. it shuffles the batch (if not ``shuffle=False``),\n",
        "    3. it returns the batch.\n",
        "\n",
        "\n"
      ]
    },
    {
      "cell_type": "markdown",
      "metadata": {
        "id": "EG3-IkddyqAC"
      },
      "source": [
        "## 7. Simple MLP\n",
        "Write a simple MLP using the classes available in ’torch.nn’. Hint: You\n",
        "can use the class ’torch.nn.Sequential()’ to stack successive layers."
      ]
    },
    {
      "cell_type": "code",
      "metadata": {
        "id": "6ATZQCFiR3No",
        "colab": {
          "base_uri": "https://localhost:8080/"
        },
        "outputId": "580b8bad-4209-4abc-f173-091b31653506"
      },
      "source": [
        "class MLP(nn.Module):\n",
        "    def __init__(self):\n",
        "        super(MLP, self).__init__()\n",
        "        self.layers = torch.nn.Sequential(\n",
        "            nn.Linear(32*32, 100),\n",
        "            nn.ReLU(),\n",
        "            nn.Linear(100, 10)\n",
        "        )\n",
        "\n",
        "    def forward(self, x):\n",
        "        # convert tensor (128, 1, 32, 32) ->(128, 1*32*32) \n",
        "        x = x.view(x.size(0), -1)\n",
        "        x = self.layers(x)\n",
        "        return x\n",
        "\n",
        "model = MLP()\n",
        "print(model)"
      ],
      "execution_count": 65,
      "outputs": [
        {
          "output_type": "stream",
          "text": [
            "MLP(\n",
            "  (layers): Sequential(\n",
            "    (0): Linear(in_features=1024, out_features=100, bias=True)\n",
            "    (1): ReLU()\n",
            "    (2): Linear(in_features=100, out_features=10, bias=True)\n",
            "  )\n",
            ")\n"
          ],
          "name": "stdout"
        }
      ]
    },
    {
      "cell_type": "markdown",
      "metadata": {
        "id": "JfW8kVmA3JAp"
      },
      "source": [
        "## 9. Training loop\n",
        "Adapt the codes from the aforementioned links to implement your custom training loop. Each iteration of this loop should process your whole training set once (this is called an epoch). During each epoch, you will perform forward and backward passes with the MLP created in Question 7 on the batches returned by your train generator. Every processed batch will be followed by an update of the neural network’s parameters. You can for instance use the categorical cross-entropy loss implemented in the class ’pytorch.nn.CrossEntropyLoss()’."
      ]
    },
    {
      "cell_type": "code",
      "metadata": {
        "id": "g51ZJV43R3Np",
        "colab": {
          "base_uri": "https://localhost:8080/"
        },
        "outputId": "8bc94f12-d662-4b2c-9da5-add488907c3e"
      },
      "source": [
        "def accuracy(out, yb):\n",
        "    preds = torch.argmax(out, dim=1)\n",
        "    return (preds == yb).float().mean()\n",
        "\n",
        "def loss_batch(model, loss_func, xb, yb, opt=None):\n",
        "    preds = model(xb)\n",
        "    loss = loss_func(preds, yb)\n",
        "    acc = accuracy(preds, yb)\n",
        "\n",
        "    if opt is not None:\n",
        "        loss.backward()\n",
        "        opt.step()\n",
        "        opt.zero_grad()\n",
        "\n",
        "    return loss.item(), len(xb), acc\n",
        "\n",
        "def fit(epochs, model, loss_func, opt, train_dl, valid_dl, test_dl):\n",
        "    mean_train_losses = []\n",
        "    mean_train_acc = []\n",
        "    mean_val_losses = []\n",
        "    val_acc_list = []\n",
        "    for epoch in range(epochs):\n",
        "        model.train()\n",
        "        running_loss = 0\n",
        "        running_acc = 0\n",
        "        ls = 0\n",
        "        for xb, yb in train_dl:\n",
        "            loss, l, acc = loss_batch(model, loss_func, xb, yb, opt)\n",
        "            running_loss += loss * l\n",
        "            running_acc += acc * l\n",
        "            ls += l\n",
        "        mean_train_losses.append(running_loss/ls)\n",
        "        mean_train_acc.append(running_acc/ls)\n",
        "\n",
        "        model.eval()\n",
        "        with torch.no_grad():\n",
        "            losses, nums, accuracies = zip(\n",
        "                *[loss_batch(model, loss_func, xb, yb) for xb, yb in valid_dl]\n",
        "            )\n",
        "        val_loss = np.sum(np.multiply(losses, nums)) / np.sum(nums)\n",
        "        val_acc = np.sum(np.multiply(accuracies, nums)) / np.sum(nums)\n",
        "        mean_val_losses.append(val_loss)\n",
        "        val_acc_list.append(val_acc)\n",
        "        \n",
        "        print('epoch ', epoch, ':\\n\\t', val_loss, '; ', val_acc*100, '%', sep='')\n",
        "\n",
        "    model.eval()\n",
        "    with torch.no_grad():\n",
        "        losses, nums, accuracies = zip(\n",
        "            *[loss_batch(model, loss_func, xb, yb) for xb, yb in test_dl]\n",
        "        )\n",
        "    test_loss = np.sum(np.multiply(losses, nums)) / np.sum(nums)\n",
        "    test_acc = np.sum(np.multiply(accuracies, nums)) / np.sum(nums)\n",
        "    \n",
        "    print('\\nTest loss: ', test_loss,\n",
        "          '\\nTest accuracy: ', test_acc*100, '%\\n', sep='')\n",
        "    return mean_train_losses, mean_train_acc, mean_val_losses, val_acc_list, test_loss, test_acc\n",
        "\n",
        "epochs = 30\n",
        "lr = 0.1\n",
        "opt = torch.optim.SGD(model.parameters(), lr=lr)\n",
        "train_loss, train_acc, val_loss, val_acc, test_loss, test_acc = fit(epochs, model, nn.CrossEntropyLoss(), opt, train_loader, valid_loader, test_loader)\n",
        "print(train_loss, train_acc, val_loss, val_acc, test_loss, test_acc)"
      ],
      "execution_count": 66,
      "outputs": [
        {
          "output_type": "stream",
          "text": [
            "epoch 0:\n",
            "\t0.37411452402387346; 89.22142856461662%\n",
            "epoch 1:\n",
            "\t0.342711428301675; 89.7928571496691%\n",
            "epoch 2:\n",
            "\t0.27114236535344804; 92.22857142175947%\n",
            "epoch 3:\n",
            "\t0.3253245223249708; 89.78571427890233%\n",
            "epoch 4:\n",
            "\t0.22596091273852756; 93.59999999318805%\n",
            "epoch 5:\n",
            "\t0.2235396203654153; 93.60000000681195%\n",
            "epoch 6:\n",
            "\t0.20133164616993496; 94.4071428503309%\n",
            "epoch 7:\n",
            "\t0.18406327361719949; 94.71428570747375%\n",
            "epoch 8:\n",
            "\t0.17352694640840802; 95.02142856461661%\n",
            "epoch 9:\n",
            "\t0.16153881112166812; 95.44285714966911%\n",
            "epoch 10:\n",
            "\t0.16833709641865321; 95.26428572109768%\n",
            "epoch 11:\n",
            "\t0.14889404612779616; 95.75714286395481%\n",
            "epoch 12:\n",
            "\t0.14404800524881908; 95.80000000681196%\n",
            "epoch 13:\n",
            "\t0.14845605818714414; 95.72857143538339%\n",
            "epoch 14:\n",
            "\t0.13155095772232328; 96.23571429252624%\n",
            "epoch 15:\n",
            "\t0.12898410544225147; 96.3285714353834%\n",
            "epoch 16:\n",
            "\t0.12382167369127274; 96.52142857824053%\n",
            "epoch 17:\n",
            "\t0.1255082478949002; 96.3928571496691%\n",
            "epoch 18:\n",
            "\t0.11638196711029325; 96.7928571496691%\n",
            "epoch 19:\n",
            "\t0.13781218822513308; 95.95000000681196%\n",
            "epoch 20:\n",
            "\t0.13111435166427068; 96.05714286395481%\n",
            "epoch 21:\n",
            "\t0.11278517121076584; 96.77857143538338%\n",
            "epoch 22:\n",
            "\t0.11239410815068654; 96.70714286395481%\n",
            "epoch 23:\n",
            "\t0.10657391779763357; 96.93571429252624%\n",
            "epoch 24:\n",
            "\t0.1054048010281154; 97.00000000681196%\n",
            "epoch 25:\n",
            "\t0.10232555862835475; 97.18571429252624%\n",
            "epoch 26:\n",
            "\t0.10050780819143568; 97.17857143538339%\n",
            "epoch 27:\n",
            "\t0.10016383159160613; 97.13571429252625%\n",
            "epoch 28:\n",
            "\t0.11202302808420998; 96.80714286395482%\n",
            "epoch 29:\n",
            "\t0.09763558347736086; 97.27857143538338%\n",
            "\n",
            "Test loss: 0.097606720830713\n",
            "Test accuracy: 97.0571428503309%\n",
            "\n",
            "[0.6830035896553205, 0.32481373160422544, 0.2784406121199936, 0.2454103349364909, 0.22057581070423204, 0.19804451312844862, 0.17997933403283728, 0.16450573241686678, 0.15128764222723995, 0.14035772537067648, 0.13061055094383311, 0.12197975247827662, 0.11464104016425823, 0.10747481186423019, 0.10150362090254314, 0.0957049168767854, 0.09065802583956614, 0.08610813131471606, 0.0816314943510782, 0.07741122674710972, 0.07436094180754632, 0.07060250292364216, 0.06749663364130028, 0.06452856246719854, 0.06148491937448665, 0.05906205969853127, 0.056605473139877155, 0.05396625511315429, 0.05168713963979931, 0.049895205071029694] [tensor(0.8356), tensor(0.9082), tensor(0.9207), tensor(0.9308), tensor(0.9378), tensor(0.9435), tensor(0.9485), tensor(0.9532), tensor(0.9568), tensor(0.9599), tensor(0.9634), tensor(0.9650), tensor(0.9675), tensor(0.9702), tensor(0.9710), tensor(0.9730), tensor(0.9749), tensor(0.9757), tensor(0.9768), tensor(0.9784), tensor(0.9795), tensor(0.9804), tensor(0.9813), tensor(0.9823), tensor(0.9831), tensor(0.9840), tensor(0.9851), tensor(0.9857), tensor(0.9864), tensor(0.9873)] [0.37411452402387346, 0.342711428301675, 0.27114236535344804, 0.3253245223249708, 0.22596091273852756, 0.2235396203654153, 0.20133164616993496, 0.18406327361719949, 0.17352694640840802, 0.16153881112166812, 0.16833709641865321, 0.14889404612779616, 0.14404800524881908, 0.14845605818714414, 0.13155095772232328, 0.12898410544225147, 0.12382167369127274, 0.1255082478949002, 0.11638196711029325, 0.13781218822513308, 0.13111435166427068, 0.11278517121076584, 0.11239410815068654, 0.10657391779763357, 0.1054048010281154, 0.10232555862835475, 0.10050780819143568, 0.10016383159160613, 0.11202302808420998, 0.09763558347736086] [0.8922142856461661, 0.897928571496691, 0.9222857142175946, 0.8978571427890233, 0.9359999999318804, 0.9360000000681196, 0.9440714285033089, 0.9471428570747376, 0.9502142856461662, 0.954428571496691, 0.9526428572109767, 0.9575714286395481, 0.9580000000681196, 0.9572857143538339, 0.9623571429252624, 0.9632857143538339, 0.9652142857824053, 0.963928571496691, 0.967928571496691, 0.9595000000681196, 0.9605714286395481, 0.9677857143538339, 0.9670714286395482, 0.9693571429252624, 0.9700000000681196, 0.9718571429252625, 0.9717857143538339, 0.9713571429252624, 0.9680714286395482, 0.9727857143538339] 0.097606720830713 0.970571428503309\n"
          ],
          "name": "stdout"
        }
      ]
    },
    {
      "cell_type": "markdown",
      "metadata": {
        "id": "ERoek8i3-q6P"
      },
      "source": [
        "## 13. Hyperparameters Tuning\n",
        "Find a configuration of hyperparameters such that your model reaches at\n",
        "least 90% accuracy on the test set. Indicate in your report the specifics of\n",
        "your architecture and the chosen hyperparameters.\n",
        "* Any specific tuning is needed. The models performs well just with following setup.\n",
        "    * optimizer: *SGD*\n",
        "    * learning_rate = 0.1\n",
        "    * number_of_epochs = 25\n",
        "    * loss function: *CrossEntropyLoss*"
      ]
    },
    {
      "cell_type": "markdown",
      "metadata": {
        "id": "eaE-LeYWASQJ"
      },
      "source": [
        "## 14. Plot Results\n",
        "Produce plots for the train/validation accuracy and loss curves. Make\n",
        "sure to properly title your figures, legend your plots and label your axis."
      ]
    },
    {
      "cell_type": "markdown",
      "metadata": {
        "id": "NutDZOZ0AeeO"
      },
      "source": [
        "### Loss"
      ]
    },
    {
      "cell_type": "code",
      "metadata": {
        "colab": {
          "base_uri": "https://localhost:8080/",
          "height": 295
        },
        "id": "4__bBS3FAXK1",
        "outputId": "476e44fd-0253-4e1e-fe51-83de7dcfdd92"
      },
      "source": [
        "plt.plot(train_loss, label='train')\n",
        "plt.plot(val_loss, label='validation')\n",
        "plt.hlines(test_loss, len(train_loss)-1, len(train_loss), label='test')\n",
        "plt.title('Train and validation loss during the training')\n",
        "plt.xlabel('epochs')\n",
        "plt.ylabel('loss')\n",
        "plt.legend()\n",
        "plt.show()"
      ],
      "execution_count": 67,
      "outputs": [
        {
          "output_type": "display_data",
          "data": {
            "image/png": "[encoded data removed]",
            "text/plain": [
              "<Figure size 432x288 with 1 Axes>"
            ]
          },
          "metadata": {
            "tags": [],
            "needs_background": "light"
          }
        }
      ]
    },
    {
      "cell_type": "code",
      "metadata": {
        "colab": {
          "base_uri": "https://localhost:8080/",
          "height": 295
        },
        "id": "HtJdO9RWGXh0",
        "outputId": "3279df9f-36cc-4764-d117-e2cb0ed1ad57"
      },
      "source": [
        "plt.plot(train_acc, label='train')\n",
        "plt.plot(val_acc, label='validation')\n",
        "plt.hlines(test_acc, len(train_acc)-1, len(train_acc), label='test')\n",
        "plt.title('Train and validation accuracy during the training')\n",
        "plt.xlabel('epochs')\n",
        "plt.ylabel('accuracy')\n",
        "plt.legend(loc='lower right')\n",
        "plt.show()"
      ],
      "execution_count": 68,
      "outputs": [
        {
          "output_type": "display_data",
          "data": {
            "image/png": "[encoded data removed]",
            "text/plain": [
              "<Figure size 432x288 with 1 Axes>"
            ]
          },
          "metadata": {
            "tags": [],
            "needs_background": "light"
          }
        }
      ]
    },
    {
      "cell_type": "markdown",
      "metadata": {
        "id": "14Nu-sSiOtdf"
      },
      "source": [
        "**Thank you** for interesting assigment even though I firstly struggled at the beginning (data loading).\n",
        "\n",
        "\n",
        ">Jakub Ryšavý\n",
        "\n",
        "\n",
        "\n"
      ]
    }
  ]
}